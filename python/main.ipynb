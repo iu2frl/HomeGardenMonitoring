{
 "cells": [
  {
   "cell_type": "markdown",
   "metadata": {},
   "source": [
    "# Sample FFT code"
   ]
  },
  {
   "cell_type": "markdown",
   "metadata": {},
   "source": [
    "## Install dependencies"
   ]
  },
  {
   "cell_type": "code",
   "execution_count": null,
   "metadata": {},
   "outputs": [],
   "source": [
    "!pip install -r ./requirements.txt"
   ]
  },
  {
   "cell_type": "markdown",
   "metadata": {},
   "source": [
    "## Python code"
   ]
  },
  {
   "cell_type": "code",
   "execution_count": null,
   "metadata": {},
   "outputs": [],
   "source": [
    "import re\n",
    "import json\n",
    "import matplotlib.pyplot as plt\n",
    "import numpy as np\n",
    "\n",
    "from influxdb_client import InfluxDBClient"
   ]
  },
  {
   "cell_type": "code",
   "execution_count": null,
   "metadata": {},
   "outputs": [],
   "source": [
    "def load_constants(file_path):\n",
    "    constants_dict = {}\n",
    "    with open(file_path, 'r', encoding=\"UTF-8\") as file:\n",
    "        content = file.read()\n",
    "        #print(content)\n",
    "        # Match lines containing constant definitions\n",
    "        constant_lines = re.findall(r'#define\\s+(\\w+)\\s+\"([^\"]+)\"', content)\n",
    "        for name, value in constant_lines:\n",
    "            constants_dict[name] = value\n",
    "    #print(constants_dict)\n",
    "    return constants_dict"
   ]
  },
  {
   "cell_type": "code",
   "execution_count": null,
   "metadata": {},
   "outputs": [],
   "source": [
    "def get_from_influx(url: str, token: str, org: str, bucket: str, sensorname: str) -> list[list[float]]:\n",
    "    # Initialize the client\n",
    "    client = InfluxDBClient(url=url, token=token, org=org)\n",
    "\n",
    "    # Define the query\n",
    "    query = f\"\"\"\n",
    "    from(bucket: \"{bucket}\")\n",
    "    |> range(start: -8h, stop: now())\n",
    "    |> filter(fn: (r) => r[\"_measurement\"] == \"garden_fft_data\")\n",
    "    |> filter(fn: (r) => r[\"_field\"] == \"json_data\")\n",
    "    |> filter(fn: (r) => r[\"device\"] == \"{sensorname}\")\n",
    "    |> aggregateWindow(every: 1m, fn: last, createEmpty: false)\n",
    "    |> yield(name: \"last\")\n",
    "    |> sort(columns: [\"_time\"], desc: true)\n",
    "    \"\"\"\n",
    "\n",
    "    # Execute the query\n",
    "    result = client.query_api().query(query)\n",
    "\n",
    "    # List containing data arrays\n",
    "    data_list = []\n",
    "    \n",
    "    # Print the results\n",
    "    for table in result:\n",
    "        for record in table.records:\n",
    "            #print(str(record[\"_time\"]) + \" - \" + record[\"_value\"])\n",
    "            json_list = json.loads(record[\"_value\"])\n",
    "            # Extracting data array\n",
    "            data_array = json_list['data']\n",
    "            # Printing the data array\n",
    "            #print(data_array)\n",
    "            data_list.append(data_array)\n",
    "            \n",
    "    return data_list"
   ]
  },
  {
   "cell_type": "code",
   "execution_count": null,
   "metadata": {},
   "outputs": [],
   "source": [
    "def plot_data(data_list: list[list[float]]):\n",
    "    # Convert the data to a numpy array\n",
    "    data_array = np.array(data_list)\n",
    "\n",
    "    # Create the heatmap\n",
    "    plt.imshow(data_array, cmap='viridis', interpolation='nearest')\n",
    "\n",
    "    # Add color bar\n",
    "    plt.colorbar()\n",
    "    plt.clim(0, 100)\n",
    "\n",
    "    # Add labels\n",
    "    plt.xlabel('Frequency')\n",
    "    plt.ylabel('Minutes ago')\n",
    "    plt.title('FFT Results')\n",
    "\n",
    "    # Show plot\n",
    "    plt.show()"
   ]
  },
  {
   "cell_type": "code",
   "execution_count": null,
   "metadata": {},
   "outputs": [],
   "source": [
    "if __name__ == \"__main__\":\n",
    "    FILE_PATH = \"../include/secrets.h\"  # Path to your .h file\n",
    "    constants = load_constants(FILE_PATH)\n",
    "    data = get_from_influx(constants[\"INFLUXDB_URL\"], constants[\"INFLUXDB_TOKEN\"], constants[\"INFLUXDB_ORG\"], constants[\"INFLUXDB_BUCKET\"], constants[\"SENSOR_NAME\"])\n",
    "    plot_data(data)"
   ]
  }
 ],
 "metadata": {
  "kernelspec": {
   "display_name": "Python 3",
   "language": "python",
   "name": "python3"
  },
  "language_info": {
   "name": "python",
   "version": "3.10.12"
  }
 },
 "nbformat": 4,
 "nbformat_minor": 2
}
